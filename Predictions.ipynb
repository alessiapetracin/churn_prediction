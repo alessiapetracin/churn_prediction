{
 "cells": [
  {
   "cell_type": "code",
   "execution_count": 1,
   "id": "e3a8b45f",
   "metadata": {},
   "outputs": [],
   "source": [
    "import pandas as pd\n",
    "import numpy as np\n",
    "import pickle\n",
    "# import training and test set\n",
    "train = pd.read_csv('/Users/alessia/Desktop/churn/train.csv')\n",
    "test = pd.read_csv('/Users/alessia/Desktop/churn/test.csv')"
   ]
  },
  {
   "cell_type": "code",
   "execution_count": 2,
   "id": "f046830e",
   "metadata": {},
   "outputs": [],
   "source": [
    "# create dummy variable for Gender\n",
    "# replace 'Male' with 0 and 'Female' with 1\n",
    "test['Gender'] = test['Gender'].replace({'Male': 0, 'Female': 1})"
   ]
  },
  {
   "cell_type": "code",
   "execution_count": 3,
   "id": "4c6a55e1",
   "metadata": {},
   "outputs": [],
   "source": [
    "# get dummy variable for Geography\n",
    "dummies = pd.get_dummies(test['Geography'])\n",
    "\n",
    "test_new = pd.concat([test, dummies], axis=1)      \n",
    "test_new.drop(['Geography'], inplace=True, axis=1)\n",
    "\n",
    "# create dummy for France and Germany\n",
    "test_new['France'] = test_new['France'].replace({True: 1, False: 0})\n",
    "test_new['Germany'] = test_new['Germany'].replace({True: 1, False: 0})\n",
    "# drop Spain, as it is redundant (already encoded in the 0s of France and Germany)\n",
    "test_new.drop(['Spain'], inplace=True, axis=1)"
   ]
  },
  {
   "cell_type": "markdown",
   "id": "568290b4",
   "metadata": {},
   "source": [
    "We don't remove outliers from the test set, so that predictions can be yielded for these datapoints, too. However, we check for them, in order to be careful with the predictions that are yielded for these datapoints. By printing them out, one can eventually check the reasons why they're considered outliers."
   ]
  },
  {
   "cell_type": "code",
   "execution_count": 4,
   "id": "21fe63d4",
   "metadata": {},
   "outputs": [],
   "source": [
    "def outliers(train, test, continuous_train):\n",
    "    for attr in continuous_train:\n",
    "        q1, q3 = np.percentile(train[attr], [25, 75])\n",
    "        iqr = q3 - q1\n",
    "        lower_fence = q1 - 1.5 * iqr\n",
    "        higher_fence = q3 + 1.5 * iqr\n",
    "\n",
    "        print(\"Interquartile Range for {}: {}\".format(attr, iqr))\n",
    "        print(\"Lower Fence for {}: {}\".format(attr, lower_fence))\n",
    "        print(\"Higher Fence for {}: {}\".format(attr, higher_fence))\n",
    "\n",
    "        # remove outliers\n",
    "        outliers_up = test[test[attr] > higher_fence]\n",
    "        outliers_down = test[test[attr] < lower_fence]\n",
    "        print(outliers_up, outliers_down)"
   ]
  },
  {
   "cell_type": "code",
   "execution_count": 5,
   "id": "6296003e",
   "metadata": {},
   "outputs": [
    {
     "name": "stdout",
     "output_type": "stream",
     "text": [
      "Interquartile Range for CreditScore: 113.0\n",
      "Lower Fence for CreditScore: 427.5\n",
      "Higher Fence for CreditScore: 879.5\n",
      "Empty DataFrame\n",
      "Columns: [id, CustomerId, Surname, CreditScore, Geography, Gender, Age, Tenure, Balance, NumOfProducts, HasCrCard, IsActiveMember, EstimatedSalary]\n",
      "Index: []             id  CustomerId   Surname  CreditScore Geography  Gender   Age  \\\n",
      "239     165273    15724863  Sheppard          420    France       1  40.0   \n",
      "488     165522    15726720  McKenzie          418    France       0  37.0   \n",
      "1116    166150    15582951  Crawford          425    France       1  29.0   \n",
      "1845    166879    15634606      Chin          425    France       1  32.0   \n",
      "2086    167120    15636999       Mao          414    France       0  38.0   \n",
      "...        ...         ...       ...          ...       ...     ...   ...   \n",
      "107854  272888    15638989  Lettiere          418    France       1  42.0   \n",
      "108711  273745    15695475       Hao          411    France       0  39.0   \n",
      "109218  274252    15752193    Burton          421     Spain       1  35.0   \n",
      "109489  274523    15743478       Sal          420     Spain       1  55.0   \n",
      "109626  274660    15724863  Sheppard          420     Spain       1  40.0   \n",
      "\n",
      "        Tenure   Balance  NumOfProducts  HasCrCard  IsActiveMember  \\\n",
      "239          4      0.00              2        0.0             1.0   \n",
      "488         10      0.00              2        0.0             1.0   \n",
      "1116         7      0.00              2        1.0             0.0   \n",
      "1845         4      0.00              2        1.0             1.0   \n",
      "2086         3      0.00              1        0.0             1.0   \n",
      "...        ...       ...            ...        ...             ...   \n",
      "107854       8  75497.51              1        0.0             1.0   \n",
      "108711       2      0.00              2        0.0             1.0   \n",
      "109218       1  90723.36              1        1.0             1.0   \n",
      "109489       4  91893.32              1        1.0             1.0   \n",
      "109626       4  91893.32              2        1.0             1.0   \n",
      "\n",
      "        EstimatedSalary  \n",
      "239           145792.01  \n",
      "488            94845.45  \n",
      "1116           70550.00  \n",
      "1845          172646.88  \n",
      "2086           77661.12  \n",
      "...                 ...  \n",
      "107854          7905.06  \n",
      "108711         93825.78  \n",
      "109218         12162.76  \n",
      "109489        144870.28  \n",
      "109626        144870.28  \n",
      "\n",
      "[176 rows x 13 columns]\n",
      "Interquartile Range for Age: 10.0\n",
      "Lower Fence for Age: 17.0\n",
      "Higher Fence for Age: 57.0\n",
      "            id  CustomerId      Surname  CreditScore Geography  Gender   Age  \\\n",
      "104     165138    15756538        T'ien          590    France       1  59.0   \n",
      "117     165151    15571284       Elmore          598   Germany       0  60.0   \n",
      "137     165171    15782641        Hsueh          757    France       0  60.0   \n",
      "161     165195    15589147        Hsing          580    France       0  61.0   \n",
      "164     165198    15684491           Ku          714    France       1  59.0   \n",
      "...        ...         ...          ...          ...       ...     ...   ...   \n",
      "109963  274997    15626147      Maclean          608    France       1  62.0   \n",
      "109981  275015    15642996         Tuan          545   Germany       0  67.0   \n",
      "109988  275022    15759021        Rizzo          754   Germany       0  59.0   \n",
      "110008  275042    15586974  Chukwuebuka          706    France       0  64.0   \n",
      "110017  275051    15681075  Chukwualuka          682    France       0  58.0   \n",
      "\n",
      "        Tenure    Balance  NumOfProducts  HasCrCard  IsActiveMember  \\\n",
      "104          3       0.00              1        1.0             1.0   \n",
      "117          1  108410.87              2        1.0             0.0   \n",
      "137          8       0.00              2        1.0             1.0   \n",
      "161          2  125921.37              2        1.0             1.0   \n",
      "164          6       0.00              1        0.0             1.0   \n",
      "...        ...        ...            ...        ...             ...   \n",
      "109963       8  144976.50              1        0.0             1.0   \n",
      "109981       0  160761.41              2        1.0             1.0   \n",
      "109988       5  162261.23              2        1.0             1.0   \n",
      "110008       9       0.00              2        0.0             1.0   \n",
      "110017       1       0.00              1        1.0             1.0   \n",
      "\n",
      "        EstimatedSalary  \n",
      "104           172097.40  \n",
      "117           107964.36  \n",
      "137           171344.31  \n",
      "161            94677.83  \n",
      "164           137898.57  \n",
      "...                 ...  \n",
      "109963        175836.03  \n",
      "109981         75884.65  \n",
      "109988         76611.32  \n",
      "110008        166516.90  \n",
      "110017           706.50  \n",
      "\n",
      "[4246 rows x 13 columns] Empty DataFrame\n",
      "Columns: [id, CustomerId, Surname, CreditScore, Geography, Gender, Age, Tenure, Balance, NumOfProducts, HasCrCard, IsActiveMember, EstimatedSalary]\n",
      "Index: []\n",
      "Interquartile Range for Balance: 119939.5175\n",
      "Lower Fence for Balance: -179909.27625\n",
      "Higher Fence for Balance: 299848.79375\n",
      "Empty DataFrame\n",
      "Columns: [id, CustomerId, Surname, CreditScore, Geography, Gender, Age, Tenure, Balance, NumOfProducts, HasCrCard, IsActiveMember, EstimatedSalary]\n",
      "Index: [] Empty DataFrame\n",
      "Columns: [id, CustomerId, Surname, CreditScore, Geography, Gender, Age, Tenure, Balance, NumOfProducts, HasCrCard, IsActiveMember, EstimatedSalary]\n",
      "Index: []\n",
      "Interquartile Range for EstimatedSalary: 80514.89749999999\n",
      "Lower Fence for EstimatedSalary: -46134.77624999998\n",
      "Higher Fence for EstimatedSalary: 275924.81375\n",
      "Empty DataFrame\n",
      "Columns: [id, CustomerId, Surname, CreditScore, Geography, Gender, Age, Tenure, Balance, NumOfProducts, HasCrCard, IsActiveMember, EstimatedSalary]\n",
      "Index: [] Empty DataFrame\n",
      "Columns: [id, CustomerId, Surname, CreditScore, Geography, Gender, Age, Tenure, Balance, NumOfProducts, HasCrCard, IsActiveMember, EstimatedSalary]\n",
      "Index: []\n"
     ]
    }
   ],
   "source": [
    "outliers(train, test, [\"CreditScore\", \"Age\", \"Balance\", \"EstimatedSalary\"])"
   ]
  },
  {
   "cell_type": "code",
   "execution_count": 6,
   "id": "386beee3",
   "metadata": {},
   "outputs": [],
   "source": [
    "# import base models and meta-learner for Stacking\n",
    "model_file=open('/Users/alessia/Desktop/churn/gb_base.pkl', 'rb')\n",
    "gb=pickle.load(model_file)\n",
    "model_file=open('/Users/alessia/Desktop/churn/rf_base.pkl', 'rb')\n",
    "rf=pickle.load(model_file)\n",
    "model_file=open('/Users/alessia/Desktop/churn/dt_base.pkl', 'rb')\n",
    "dt=pickle.load(model_file)\n",
    "\n",
    "model_file=open('/Users/alessia/Desktop/churn/Stacking.pkl', 'rb')\n",
    "meta_model=pickle.load(model_file)\n",
    "\n",
    "# predict on base-learners\n",
    "dt_pred_new = dt.predict(test_new[['CreditScore', 'Age', 'EstimatedSalary', 'Balance', 'Gender', 'Tenure',\n",
    "       'NumOfProducts', 'HasCrCard', 'IsActiveMember', 'France', 'Germany']])\n",
    "rf_pred_new = rf.predict(test_new[['CreditScore', 'Age', 'EstimatedSalary', 'Balance', 'Gender', 'Tenure',\n",
    "       'NumOfProducts', 'HasCrCard', 'IsActiveMember', 'France', 'Germany']])\n",
    "gb_pred_new = gb.predict(test_new[['CreditScore', 'Age', 'EstimatedSalary', 'Balance', 'Gender', 'Tenure',\n",
    "       'NumOfProducts', 'HasCrCard', 'IsActiveMember', 'France', 'Germany']])\n",
    "\n",
    "X_new_meta = np.column_stack((dt_pred_new, rf_pred_new, gb_pred_new))\n",
    "\n",
    "# AUC on the test set\n",
    "y_probs_test_stack = meta_model.predict_proba(X_new_meta)[:, 1]"
   ]
  },
  {
   "cell_type": "code",
   "execution_count": 7,
   "id": "ff6ae6b2",
   "metadata": {},
   "outputs": [],
   "source": [
    "# compute probabilities\n",
    "probabilities = pd.DataFrame(y_probs_test_stack, columns = ['probabilities'])"
   ]
  },
  {
   "cell_type": "code",
   "execution_count": 8,
   "id": "044922ae",
   "metadata": {},
   "outputs": [],
   "source": [
    "# concatenate original test dataframe with probabilities\n",
    "test_probabilities = pd.concat([test, probabilities], axis=1) "
   ]
  },
  {
   "cell_type": "code",
   "execution_count": 9,
   "id": "caf21c65",
   "metadata": {},
   "outputs": [],
   "source": [
    "# save test_probabilities as csv\n",
    "test_probabilities.to_csv('/Users/alessia/Desktop/churn/test_probs.csv')"
   ]
  }
 ],
 "metadata": {
  "kernelspec": {
   "display_name": "Python 3 (ipykernel)",
   "language": "python",
   "name": "python3"
  },
  "language_info": {
   "codemirror_mode": {
    "name": "ipython",
    "version": 3
   },
   "file_extension": ".py",
   "mimetype": "text/x-python",
   "name": "python",
   "nbconvert_exporter": "python",
   "pygments_lexer": "ipython3",
   "version": "3.11.5"
  }
 },
 "nbformat": 4,
 "nbformat_minor": 5
}
